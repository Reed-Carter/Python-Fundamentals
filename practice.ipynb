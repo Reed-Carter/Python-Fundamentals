{
 "cells": [
  {
   "cell_type": "markdown",
   "metadata": {},
   "source": [
    "A function called list_sayer() that takes a list as an argument\n",
    "\n",
    "If the list isn't empty (i.e. there's one or more items in it):\n",
    "  *print a string for each item saying the name of the item and its index\n",
    "  *return the Boolean True\n",
    "If the list is empty:\n",
    "  *print a string saying that the list is empty\n",
    "  *return the Boolean False"
   ]
  },
  {
   "cell_type": "code",
   "execution_count": 28,
   "metadata": {},
   "outputs": [
    {
     "name": "stdout",
     "output_type": "stream",
     "text": [
      "index 0 is the value: desk\n",
      "index 1 is the value: chair\n",
      "index 2 is the value: computer\n"
     ]
    },
    {
     "data": {
      "text/plain": [
       "True"
      ]
     },
     "execution_count": 28,
     "metadata": {},
     "output_type": "execute_result"
    }
   ],
   "source": [
    "list_one = [\"desk\", \"chair\", \"computer\"]\n",
    "\n",
    "def list_sayer(list_one):\n",
    "  if len(list_one) == 0:\n",
    "    print(\"the list is empty\")\n",
    "    return False\n",
    "  else:\n",
    "    for index in range(len(list_one)):\n",
    "      print(f\"index {index} is the value: {list_one[index]}\")\n",
    "    return True\n",
    "  \n",
    "\n",
    "list_sayer(list_one)\n"
   ]
  },
  {
   "cell_type": "markdown",
   "metadata": {},
   "source": [
    "A function called dict_sayer() that takes a dictionary as an argument\n",
    "\n",
    "If the dictionary isn't empty (i.e. there's one or more items in it):\n",
    "  print a string for each item saying the name of each key and its value\n",
    "  return the Boolean True\n",
    "If the dictionary is empty:\n",
    "  print a string saying that the dictionary is empty\n",
    "  return the Boolean False"
   ]
  },
  {
   "cell_type": "code",
   "execution_count": 32,
   "metadata": {},
   "outputs": [
    {
     "name": "stdout",
     "output_type": "stream",
     "text": [
      "the capital of Burkina_Faso is Ouagadougou\n",
      "the capital of Kazakhstan is Nur-Sultan\n",
      "the capital of Japan is Tokyo\n",
      "the capital of Peru is Lima\n"
     ]
    },
    {
     "data": {
      "text/plain": [
       "True"
      ]
     },
     "execution_count": 32,
     "metadata": {},
     "output_type": "execute_result"
    }
   ],
   "source": [
    "dict_one = {\"Burkina_Faso\": \"Ouagadougou\", \"Kazakhstan\": \"Nur-Sultan\", \"Japan\": \"Tokyo\", \"Peru\": \"Lima\"}\n",
    "\n",
    "def dict_sayer(dict_one):\n",
    "  if len(dict_one) == 0:\n",
    "    print(\"The dictionary is empty!\")\n",
    "    return False\n",
    "  else:\n",
    "    for key, value in dict_one.items():\n",
    "      print(f\"the capital of {key} is {value}\")\n",
    "    return True\n",
    "\n",
    "dict_sayer(dict_one)"
   ]
  },
  {
   "cell_type": "markdown",
   "metadata": {},
   "source": [
    "A function called greatest() that takes as an argument a dictionary that has strings as keys and integers as values\n",
    "\n",
    "  find the greatest value\n",
    "  return a tuple with the greatest value and its key"
   ]
  },
  {
   "cell_type": "code",
   "execution_count": 34,
   "metadata": {},
   "outputs": [
    {
     "data": {
      "text/plain": [
       "('Jim', 46)"
      ]
     },
     "execution_count": 34,
     "metadata": {},
     "output_type": "execute_result"
    }
   ],
   "source": [
    "dict_age = {\"Joey\": 28, \"Jim\": 46, \"Billy\": 10}\n",
    "\n",
    "def Greatest(dict_age):\n",
    "  for key, value in dict_age.items():\n",
    "    if value == max(dict_age.values()):\n",
    "      return (key, value)\n",
    "\n",
    "Greatest(dict_age)\n"
   ]
  },
  {
   "cell_type": "markdown",
   "metadata": {},
   "source": [
    "A function called zipper() that takes two lists as arguments\n",
    "\n",
    "If the lists are the same length:\n",
    "  return a dictionary that has the items of the first list as keys, and each item in the same index in the second list as the value > For instance, the lists [\"vanilla\", \"cherry\"] and [\"cake\", \"ice_cream\"] would return {\"vanilla\": \"cake\", \"cherry\": \"ice_cream\"}\n",
    "If the lists are different lengths:\n",
    "  return a tuple with each list and its length > For instance, the lists [\"vanilla\", \"cherry\", \"pistachio\"] and [\"cake\", \"ice_cream\"] would return ([\"vanilla\", \"cherry\", \"pistachio\"], 3, [\"cake\", \"ice_cream\"], 4)"
   ]
  },
  {
   "cell_type": "code",
   "execution_count": 49,
   "metadata": {},
   "outputs": [
    {
     "name": "stdout",
     "output_type": "stream",
     "text": [
      "{'vanilla': 'cake', 'cherry': 'ice_cream'}\n"
     ]
    }
   ],
   "source": [
    "list1 = [\"vanilla\", \"cherry\"]\n",
    "list2 = [\"cake\", \"ice_cream\"]\n",
    "\n",
    "def zipper(list1, list2):\n",
    "  both_lists_dict = {}\n",
    "  if len(list1) == len(list2):\n",
    "    for index in range(len(list1)):\n",
    "      both_lists_dict[list1[index]] = list2[index]\n",
    "    print(both_lists_dict)\n",
    "  else:\n",
    "    return (list1, len(list1), list2, len(list2))\n",
    "zipper(list1, list2)\n",
    "\n",
    "      "
   ]
  }
 ],
 "metadata": {
  "kernelspec": {
   "display_name": "Python 3.7.15 ('venv': venv)",
   "language": "python",
   "name": "python3"
  },
  "language_info": {
   "codemirror_mode": {
    "name": "ipython",
    "version": 3
   },
   "file_extension": ".py",
   "mimetype": "text/x-python",
   "name": "python",
   "nbconvert_exporter": "python",
   "pygments_lexer": "ipython3",
   "version": "3.7.15"
  },
  "orig_nbformat": 4,
  "vscode": {
   "interpreter": {
    "hash": "7eb4f0e0d3e8487486d2e836ba3cde63019536d2210f0ecce785be4ade925848"
   }
  }
 },
 "nbformat": 4,
 "nbformat_minor": 2
}
